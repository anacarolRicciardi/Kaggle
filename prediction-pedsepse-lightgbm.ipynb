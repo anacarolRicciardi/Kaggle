{
 "cells": [
  {
   "cell_type": "code",
   "execution_count": 1,
   "id": "28bf4d31",
   "metadata": {
    "_cell_guid": "b1076dfc-b9ad-4769-8c92-a6c4dae69d19",
    "_uuid": "8f2839f25d086af736a60e9eeb907d3b93b6e0e5",
    "execution": {
     "iopub.execute_input": "2025-01-21T18:08:59.478701Z",
     "iopub.status.busy": "2025-01-21T18:08:59.478186Z",
     "iopub.status.idle": "2025-01-21T18:09:00.813937Z",
     "shell.execute_reply": "2025-01-21T18:09:00.812501Z"
    },
    "papermill": {
     "duration": 1.34268,
     "end_time": "2025-01-21T18:09:00.815952",
     "exception": false,
     "start_time": "2025-01-21T18:08:59.473272",
     "status": "completed"
    },
    "tags": []
   },
   "outputs": [
    {
     "name": "stdout",
     "output_type": "stream",
     "text": [
      "/kaggle/input/phems-hackathon-early-sepsis-prediction/SepsisLabel_sample_submission.csv\n",
      "/kaggle/input/phems-hackathon-early-sepsis-prediction/training_data/drugsexposure_train.csv\n",
      "/kaggle/input/phems-hackathon-early-sepsis-prediction/training_data/observation_train.csv\n",
      "/kaggle/input/phems-hackathon-early-sepsis-prediction/training_data/devices_train.csv\n",
      "/kaggle/input/phems-hackathon-early-sepsis-prediction/training_data/measurement_lab_train.csv\n",
      "/kaggle/input/phems-hackathon-early-sepsis-prediction/training_data/proceduresoccurrences_train.csv\n",
      "/kaggle/input/phems-hackathon-early-sepsis-prediction/training_data/person_demographics_episode_train.csv\n",
      "/kaggle/input/phems-hackathon-early-sepsis-prediction/training_data/SepsisLabel_train.csv\n",
      "/kaggle/input/phems-hackathon-early-sepsis-prediction/training_data/measurement_observation_train.csv\n",
      "/kaggle/input/phems-hackathon-early-sepsis-prediction/training_data/measurement_meds_train.csv\n",
      "/kaggle/input/phems-hackathon-early-sepsis-prediction/testing_data/proceduresoccurrences_test.csv\n",
      "/kaggle/input/phems-hackathon-early-sepsis-prediction/testing_data/measurement_lab_test.csv\n",
      "/kaggle/input/phems-hackathon-early-sepsis-prediction/testing_data/observation_test.csv\n",
      "/kaggle/input/phems-hackathon-early-sepsis-prediction/testing_data/drugsexposure_test.csv\n",
      "/kaggle/input/phems-hackathon-early-sepsis-prediction/testing_data/measurement_observation_test.csv\n",
      "/kaggle/input/phems-hackathon-early-sepsis-prediction/testing_data/person_demographics_episode_test.csv\n",
      "/kaggle/input/phems-hackathon-early-sepsis-prediction/testing_data/devices_test.csv\n",
      "/kaggle/input/phems-hackathon-early-sepsis-prediction/testing_data/measurement_meds_test.csv\n",
      "/kaggle/input/phems-hackathon-early-sepsis-prediction/testing_data/SepsisLabel_test.csv\n"
     ]
    }
   ],
   "source": [
    "# This Python 3 environment comes with many helpful analytics libraries installed\n",
    "# It is defined by the kaggle/python Docker image: https://github.com/kaggle/docker-python\n",
    "# For example, here's several helpful packages to load\n",
    "\n",
    "import numpy as np # linear algebra\n",
    "import pandas as pd # data processing, CSV file I/O (e.g. pd.read_csv)\n",
    "\n",
    "# Input data files are available in the read-only \"../input/\" directory\n",
    "# For example, running this (by clicking run or pressing Shift+Enter) will list all files under the input directory\n",
    "\n",
    "import os\n",
    "for dirname, _, filenames in os.walk('/kaggle/input'):\n",
    "    for filename in filenames:\n",
    "        print(os.path.join(dirname, filename))\n",
    "\n",
    "# You can write up to 20GB to the current directory (/kaggle/working/) that gets preserved as output when you create a version using \"Save & Run All\" \n",
    "# You can also write temporary files to /kaggle/temp/, but they won't be saved outside of the current session"
   ]
  },
  {
   "cell_type": "markdown",
   "id": "91a818f6",
   "metadata": {
    "papermill": {
     "duration": 0.002755,
     "end_time": "2025-01-21T18:09:00.822215",
     "exception": false,
     "start_time": "2025-01-21T18:09:00.819460",
     "status": "completed"
    },
    "tags": []
   },
   "source": [
    "#  Predicting Pediatric Sepsis Using Data Science\n",
    "\n",
    "## Introduction\n",
    "Sepsis is a critical medical condition that requires early detection for effective treatment, especially in pediatric patients. This project aims to predict sepsis using advanced machine learning techniques on diverse patient data. By integrating data from medical devices, drug exposure, laboratory tests, and patient demographics, we built a robust pipeline to make early and accurate predictions.\n",
    "\n",
    "## The Journey\n",
    "### 1. Data Exploration\n",
    "We started by loading datasets containing patient data:\n",
    "- **Devices and Drugs**: Usage of medical devices and administered drugs provided insights into the treatment process.\n",
    "- **Lab Measurements**: Offered detailed observations of physiological metrics.\n",
    "- **Demographics**: Highlighted key information like age and gender.\n",
    "- **Sepsis Labels**: Indicated whether a patient developed sepsis during their ICU stay.\n",
    "\n",
    "### 2. Feature Engineering\n",
    "To make the data usable for machine learning:\n",
    "- Time-series data was aggregated at the patient level to summarize trends.\n",
    "- Demographic data was processed to include numeric features like age.\n",
    "- Missing values were handled gracefully to ensure clean input for the model.\n",
    "\n",
    "### 3. Model Development\n",
    "We trained a **LightGBM classifier**, a powerful gradient boosting algorithm, to predict sepsis. The model was evaluated using:\n",
    "- **Precision-Recall AUC**: To measure performance in handling imbalanced datasets.\n",
    "- **Accuracy and F1 Score**: To gauge overall and balanced predictive power.\n",
    "\n",
    "### 4. Visual Insights\n",
    "To complement the model:\n",
    "- **Precision-Recall Curve**: Showed how well the model distinguishes between sepsis and non-sepsis cases.\n",
    "- **Feature Importance**: Identified key contributors to predictions, like lab values and demographic features.\n",
    "- **Heatmap**: Illustrated correlations between features, revealing patterns in patient data.\n",
    "- **Sepsis Rates by Age and Gender**: Highlighted which groups are most at risk, aiding targeted interventions.\n",
    "\n",
    "## Key Findings\n",
    "1. **Age-Related Risks**: Certain age groups, like infants and young children, showed higher rates of sepsis.\n",
    "2. **Gender Disparities**: Gender differences in sepsis rates were observed, prompting further exploration.\n",
    "3. **Critical Features**: Lab measurements and specific observations played a pivotal role in predictions.\n",
    "\n",
    "## Impact\n",
    "This project equips clinicians with a tool to identify high-risk pediatric patients early, potentially saving lives through timely interventions. The flexible pipeline can adapt to other ICU datasets, expanding its utility.\n",
    "\n",
    "## Next Steps\n",
    "- Expand analysis to include additional features like comorbidities.\n",
    "- Test the model on real-world ICU data for validation.\n",
    "- Optimize the pipeline for faster predictions in clinical settings.\n",
    "\n",
    "By integrating data science and medicine, this project is a step towards smarter, data-driven healthcare.\n"
   ]
  },
  {
   "cell_type": "code",
   "execution_count": 2,
   "id": "770501c2",
   "metadata": {
    "execution": {
     "iopub.execute_input": "2025-01-21T18:09:00.829669Z",
     "iopub.status.busy": "2025-01-21T18:09:00.829124Z",
     "iopub.status.idle": "2025-01-21T18:09:09.728674Z",
     "shell.execute_reply": "2025-01-21T18:09:09.727516Z"
    },
    "papermill": {
     "duration": 8.905912,
     "end_time": "2025-01-21T18:09:09.731106",
     "exception": false,
     "start_time": "2025-01-21T18:09:00.825194",
     "status": "completed"
    },
    "tags": []
   },
   "outputs": [],
   "source": [
    "import pandas as pd\n",
    "import numpy as np\n",
    "from sklearn.model_selection import train_test_split, StratifiedKFold\n",
    "from sklearn.ensemble import GradientBoostingClassifier\n",
    "from sklearn.metrics import precision_recall_curve, auc, accuracy_score, f1_score\n",
    "import lightgbm as lgb\n",
    "import matplotlib.pyplot as plt\n",
    "import seaborn as sns\n",
    "\n",
    "# Load data\n",
    "path = \"/kaggle/input/phems-hackathon-early-sepsis-prediction/training_data/\"\n",
    "\n",
    "# Load individual datasets\n",
    "# Each dataset represents different aspects of patient data (devices, drug exposure, lab measurements, etc.)\n",
    "devices_train = pd.read_csv(path + \"devices_train.csv\")\n",
    "drugexposure_train = pd.read_csv(path + \"drugsexposure_train.csv\")\n",
    "measurements_lab_train = pd.read_csv(path + \"measurement_lab_train.csv\")\n",
    "observations_train = pd.read_csv(path + \"observation_train.csv\")\n",
    "person_demographics = pd.read_csv(path + \"person_demographics_episode_train.csv\")\n",
    "outcome_train = pd.read_csv(path + \"SepsisLabel_train.csv\")\n",
    "\n",
    "# Helper Functions\n",
    "def aggregate_time_series(data, time_col, group_col, agg_features):\n",
    "    \"\"\"Aggregate time-series data for feature generation.\"\"\"\n",
    "    # Ensure numeric columns are properly converted\n",
    "    numeric_cols = [col for col, agg in agg_features.items() if 'mean' in agg or 'std' in agg or 'min' in agg or 'max']\n",
    "    data[numeric_cols] = data[numeric_cols].apply(pd.to_numeric, errors='coerce')\n",
    "    agg_data = data.groupby(group_col).agg(agg_features)\n",
    "    agg_data.columns = [\"_\".join(col).strip() for col in agg_data.columns.values]  # Flatten MultiIndex\n",
    "    return agg_data.reset_index()\n",
    "\n"
   ]
  },
  {
   "cell_type": "code",
   "execution_count": 3,
   "id": "ae588e10",
   "metadata": {
    "execution": {
     "iopub.execute_input": "2025-01-21T18:09:09.743234Z",
     "iopub.status.busy": "2025-01-21T18:09:09.742868Z",
     "iopub.status.idle": "2025-01-21T18:09:09.909333Z",
     "shell.execute_reply": "2025-01-21T18:09:09.908282Z"
    },
    "papermill": {
     "duration": 0.174696,
     "end_time": "2025-01-21T18:09:09.911379",
     "exception": false,
     "start_time": "2025-01-21T18:09:09.736683",
     "status": "completed"
    },
    "tags": []
   },
   "outputs": [],
   "source": [
    "# Feature Engineering\n",
    "# Define aggregation dictionary for observations\n",
    "agg_dict_observations = {\n",
    "    'valuefilled': ['mean', 'std', 'min', 'max'],  # Statistics on measured values\n",
    "    'observation_concept_id': ['nunique']  # Count of unique observation types\n",
    "}\n",
    "\n",
    "# Convert 'valuefilled' column to numeric and handle non-numeric values\n",
    "observations_train['valuefilled'] = pd.to_numeric(observations_train['valuefilled'], errors='coerce')\n",
    "\n",
    "# Aggregate time-series observations at patient level\n",
    "observations_agg = aggregate_time_series(observations_train, 'observation_datetime', 'person_id', agg_dict_observations)\n",
    "\n",
    "# Process demographic data (e.g., age, gender)\n",
    "demographics_numeric = person_demographics.select_dtypes(include=[np.number])\n",
    "demographics_numeric['person_id'] = person_demographics['person_id']\n",
    "demographics_agg = demographics_numeric.groupby('person_id').mean().reset_index()\n",
    "\n",
    "# Select outcome labels (sepsis or not)\n",
    "outcome_data = outcome_train[['person_id', 'SepsisLabel']]\n",
    "\n",
    "# Merge datasets into a single DataFrame for training\n",
    "combined_data = outcome_data.merge(observations_agg, on='person_id', how='left')\n",
    "combined_data = combined_data.merge(demographics_agg, on='person_id', how='left')\n",
    "combined_data.fillna(0, inplace=True)  # Fill missing values with 0"
   ]
  },
  {
   "cell_type": "code",
   "execution_count": 4,
   "id": "e9876eea",
   "metadata": {
    "execution": {
     "iopub.execute_input": "2025-01-21T18:09:09.919151Z",
     "iopub.status.busy": "2025-01-21T18:09:09.918750Z",
     "iopub.status.idle": "2025-01-21T18:09:11.910093Z",
     "shell.execute_reply": "2025-01-21T18:09:11.908848Z"
    },
    "papermill": {
     "duration": 1.99722,
     "end_time": "2025-01-21T18:09:11.911909",
     "exception": false,
     "start_time": "2025-01-21T18:09:09.914689",
     "status": "completed"
    },
    "tags": []
   },
   "outputs": [
    {
     "name": "stdout",
     "output_type": "stream",
     "text": [
      "[LightGBM] [Info] Number of positive: 5524, number of negative: 259798\n",
      "[LightGBM] [Info] Auto-choosing col-wise multi-threading, the overhead of testing was 0.018629 seconds.\n",
      "You can set `force_col_wise=true` to remove the overhead.\n",
      "[LightGBM] [Info] Total Bins 501\n",
      "[LightGBM] [Info] Number of data points in the train set: 265322, number of used features: 3\n",
      "[LightGBM] [Info] [binary:BoostFromScore]: pavg=0.020820 -> initscore=-3.850802\n",
      "[LightGBM] [Info] Start training from score -3.850802\n",
      "Training until validation scores don't improve for 10 rounds\n",
      "Did not meet early stopping. Best iteration is:\n",
      "[100]\tvalid_0's auc: 0.957993\n"
     ]
    },
    {
     "data": {
      "text/html": [
       "<style>#sk-container-id-1 {color: black;background-color: white;}#sk-container-id-1 pre{padding: 0;}#sk-container-id-1 div.sk-toggleable {background-color: white;}#sk-container-id-1 label.sk-toggleable__label {cursor: pointer;display: block;width: 100%;margin-bottom: 0;padding: 0.3em;box-sizing: border-box;text-align: center;}#sk-container-id-1 label.sk-toggleable__label-arrow:before {content: \"▸\";float: left;margin-right: 0.25em;color: #696969;}#sk-container-id-1 label.sk-toggleable__label-arrow:hover:before {color: black;}#sk-container-id-1 div.sk-estimator:hover label.sk-toggleable__label-arrow:before {color: black;}#sk-container-id-1 div.sk-toggleable__content {max-height: 0;max-width: 0;overflow: hidden;text-align: left;background-color: #f0f8ff;}#sk-container-id-1 div.sk-toggleable__content pre {margin: 0.2em;color: black;border-radius: 0.25em;background-color: #f0f8ff;}#sk-container-id-1 input.sk-toggleable__control:checked~div.sk-toggleable__content {max-height: 200px;max-width: 100%;overflow: auto;}#sk-container-id-1 input.sk-toggleable__control:checked~label.sk-toggleable__label-arrow:before {content: \"▾\";}#sk-container-id-1 div.sk-estimator input.sk-toggleable__control:checked~label.sk-toggleable__label {background-color: #d4ebff;}#sk-container-id-1 div.sk-label input.sk-toggleable__control:checked~label.sk-toggleable__label {background-color: #d4ebff;}#sk-container-id-1 input.sk-hidden--visually {border: 0;clip: rect(1px 1px 1px 1px);clip: rect(1px, 1px, 1px, 1px);height: 1px;margin: -1px;overflow: hidden;padding: 0;position: absolute;width: 1px;}#sk-container-id-1 div.sk-estimator {font-family: monospace;background-color: #f0f8ff;border: 1px dotted black;border-radius: 0.25em;box-sizing: border-box;margin-bottom: 0.5em;}#sk-container-id-1 div.sk-estimator:hover {background-color: #d4ebff;}#sk-container-id-1 div.sk-parallel-item::after {content: \"\";width: 100%;border-bottom: 1px solid gray;flex-grow: 1;}#sk-container-id-1 div.sk-label:hover label.sk-toggleable__label {background-color: #d4ebff;}#sk-container-id-1 div.sk-serial::before {content: \"\";position: absolute;border-left: 1px solid gray;box-sizing: border-box;top: 0;bottom: 0;left: 50%;z-index: 0;}#sk-container-id-1 div.sk-serial {display: flex;flex-direction: column;align-items: center;background-color: white;padding-right: 0.2em;padding-left: 0.2em;position: relative;}#sk-container-id-1 div.sk-item {position: relative;z-index: 1;}#sk-container-id-1 div.sk-parallel {display: flex;align-items: stretch;justify-content: center;background-color: white;position: relative;}#sk-container-id-1 div.sk-item::before, #sk-container-id-1 div.sk-parallel-item::before {content: \"\";position: absolute;border-left: 1px solid gray;box-sizing: border-box;top: 0;bottom: 0;left: 50%;z-index: -1;}#sk-container-id-1 div.sk-parallel-item {display: flex;flex-direction: column;z-index: 1;position: relative;background-color: white;}#sk-container-id-1 div.sk-parallel-item:first-child::after {align-self: flex-end;width: 50%;}#sk-container-id-1 div.sk-parallel-item:last-child::after {align-self: flex-start;width: 50%;}#sk-container-id-1 div.sk-parallel-item:only-child::after {width: 0;}#sk-container-id-1 div.sk-dashed-wrapped {border: 1px dashed gray;margin: 0 0.4em 0.5em 0.4em;box-sizing: border-box;padding-bottom: 0.4em;background-color: white;}#sk-container-id-1 div.sk-label label {font-family: monospace;font-weight: bold;display: inline-block;line-height: 1.2em;}#sk-container-id-1 div.sk-label-container {text-align: center;}#sk-container-id-1 div.sk-container {/* jupyter's `normalize.less` sets `[hidden] { display: none; }` but bootstrap.min.css set `[hidden] { display: none !important; }` so we also need the `!important` here to be able to override the default hidden behavior on the sphinx rendered scikit-learn.org. See: https://github.com/scikit-learn/scikit-learn/issues/21755 */display: inline-block !important;position: relative;}#sk-container-id-1 div.sk-text-repr-fallback {display: none;}</style><div id=\"sk-container-id-1\" class=\"sk-top-container\"><div class=\"sk-text-repr-fallback\"><pre>LGBMClassifier(metric=&#x27;pr_auc&#x27;, objective=&#x27;binary&#x27;, random_state=42)</pre><b>In a Jupyter environment, please rerun this cell to show the HTML representation or trust the notebook. <br />On GitHub, the HTML representation is unable to render, please try loading this page with nbviewer.org.</b></div><div class=\"sk-container\" hidden><div class=\"sk-item\"><div class=\"sk-estimator sk-toggleable\"><input class=\"sk-toggleable__control sk-hidden--visually\" id=\"sk-estimator-id-1\" type=\"checkbox\" checked><label for=\"sk-estimator-id-1\" class=\"sk-toggleable__label sk-toggleable__label-arrow\">LGBMClassifier</label><div class=\"sk-toggleable__content\"><pre>LGBMClassifier(metric=&#x27;pr_auc&#x27;, objective=&#x27;binary&#x27;, random_state=42)</pre></div></div></div></div></div>"
      ],
      "text/plain": [
       "LGBMClassifier(metric='pr_auc', objective='binary', random_state=42)"
      ]
     },
     "execution_count": 4,
     "metadata": {},
     "output_type": "execute_result"
    }
   ],
   "source": [
    "# Train-Test Split\n",
    "# Separate features (X) and labels (y)\n",
    "X = combined_data.drop(columns=['person_id', 'SepsisLabel'])\n",
    "y = combined_data['SepsisLabel']\n",
    "\n",
    "# Split data into training and validation sets\n",
    "X_train, X_val, y_train, y_val = train_test_split(X, y, test_size=0.2, random_state=42)\n",
    "\n",
    "# Model Training\n",
    "# Initialize LightGBM model with basic parameters\n",
    "model = lgb.LGBMClassifier(boosting_type='gbdt', objective='binary', metric='pr_auc', n_estimators=100, random_state=42)\n",
    "\n",
    "# Train the model with early stopping to prevent overfitting\n",
    "model.fit(\n",
    "    X_train, \n",
    "    y_train, \n",
    "    eval_set=[(X_val, y_val)],  # Use validation set for evaluation\n",
    "    eval_metric='auc',  # Metric to evaluate (AUC)\n",
    "    callbacks=[lgb.early_stopping(stopping_rounds=10)]  # Stop if performance doesn't improve in 10 rounds\n",
    ")"
   ]
  },
  {
   "cell_type": "code",
   "execution_count": 5,
   "id": "fe7f55fd",
   "metadata": {
    "execution": {
     "iopub.execute_input": "2025-01-21T18:09:11.920218Z",
     "iopub.status.busy": "2025-01-21T18:09:11.919842Z",
     "iopub.status.idle": "2025-01-21T18:09:12.207024Z",
     "shell.execute_reply": "2025-01-21T18:09:12.205791Z"
    },
    "papermill": {
     "duration": 0.293457,
     "end_time": "2025-01-21T18:09:12.208963",
     "exception": false,
     "start_time": "2025-01-21T18:09:11.915506",
     "status": "completed"
    },
    "tags": []
   },
   "outputs": [
    {
     "name": "stdout",
     "output_type": "stream",
     "text": [
      "Precision-Recall AUC: 0.2990\n",
      "Accuracy: 0.9798\n",
      "F1 Score: 0.0261\n"
     ]
    }
   ],
   "source": [
    "# Predictions and Metrics\n",
    "# Generate predictions (probabilities) for the validation set\n",
    "y_pred_proba = model.predict_proba(X_val)[:, 1]\n",
    "\n",
    "# Calculate precision-recall curve\n",
    "precision, recall, _ = precision_recall_curve(y_val, y_pred_proba)\n",
    "\n",
    "# Calculate area under the precision-recall curve\n",
    "pr_auc = auc(recall, precision)\n",
    "\n",
    "# Calculate additional metrics\n",
    "accuracy = accuracy_score(y_val, (y_pred_proba > 0.5).astype(int))  # Accuracy at threshold 0.5\n",
    "f1 = f1_score(y_val, (y_pred_proba > 0.5).astype(int))  # F1 Score\n",
    "\n",
    "# Print evaluation metrics\n",
    "print(f\"Precision-Recall AUC: {pr_auc:.4f}\")\n",
    "print(f\"Accuracy: {accuracy:.4f}\")\n",
    "print(f\"F1 Score: {f1:.4f}\")\n"
   ]
  },
  {
   "cell_type": "code",
   "execution_count": 6,
   "id": "ba5a9161",
   "metadata": {
    "execution": {
     "iopub.execute_input": "2025-01-21T18:09:12.217451Z",
     "iopub.status.busy": "2025-01-21T18:09:12.217071Z",
     "iopub.status.idle": "2025-01-21T18:09:12.758344Z",
     "shell.execute_reply": "2025-01-21T18:09:12.757205Z"
    },
    "papermill": {
     "duration": 0.547489,
     "end_time": "2025-01-21T18:09:12.760246",
     "exception": false,
     "start_time": "2025-01-21T18:09:12.212757",
     "status": "completed"
    },
    "tags": []
   },
   "outputs": [
    {
     "data": {
      "image/png": "[encoded data removed]",
      "text/plain": [
       "<Figure size 800x600 with 1 Axes>"
      ]
     },
     "metadata": {},
     "output_type": "display_data"
    },
    {
     "data": {
      "image/png": "[encoded data removed]",
      "text/plain": [
       "<Figure size 1000x600 with 1 Axes>"
      ]
     },
     "metadata": {},
     "output_type": "display_data"
    }
   ],
   "source": [
    "\n",
    "# Visualizations\n",
    "# Precision-Recall Curve\n",
    "plt.figure(figsize=(8, 6))\n",
    "plt.plot(recall, precision, label=f'PR AUC = {pr_auc:.4f}')\n",
    "plt.xlabel('Recall')\n",
    "plt.ylabel('Precision')\n",
    "plt.title('Precision-Recall Curve')\n",
    "plt.legend()\n",
    "plt.grid()\n",
    "plt.show()\n",
    "\n",
    "# Feature Importance\n",
    "# Plot feature importance to interpret model\n",
    "lgb.plot_importance(model, max_num_features=3, importance_type='gain', figsize=(10, 6))\n",
    "plt.title(\"TopFeature Importances\")\n",
    "plt.show()\n"
   ]
  },
  {
   "cell_type": "code",
   "execution_count": 7,
   "id": "4cdbdfff",
   "metadata": {
    "execution": {
     "iopub.execute_input": "2025-01-21T18:09:12.771618Z",
     "iopub.status.busy": "2025-01-21T18:09:12.771208Z",
     "iopub.status.idle": "2025-01-21T18:09:12.980207Z",
     "shell.execute_reply": "2025-01-21T18:09:12.978682Z"
    },
    "papermill": {
     "duration": 0.216822,
     "end_time": "2025-01-21T18:09:12.982113",
     "exception": true,
     "start_time": "2025-01-21T18:09:12.765291",
     "status": "failed"
    },
    "tags": []
   },
   "outputs": [
    {
     "ename": "NameError",
     "evalue": "name 'age_gender_data' is not defined",
     "output_type": "error",
     "traceback": [
      "\u001b[0;31m---------------------------------------------------------------------------\u001b[0m",
      "\u001b[0;31mNameError\u001b[0m                                 Traceback (most recent call last)",
      "\u001b[0;32m<ipython-input-7-a68b8ac3ab45>\u001b[0m in \u001b[0;36m<cell line: 4>\u001b[0;34m()\u001b[0m\n\u001b[1;32m      2\u001b[0m \u001b[0mage_bins\u001b[0m \u001b[0;34m=\u001b[0m \u001b[0;34m[\u001b[0m\u001b[0;36m0\u001b[0m\u001b[0;34m,\u001b[0m \u001b[0;36m12\u001b[0m\u001b[0;34m,\u001b[0m \u001b[0;36m36\u001b[0m\u001b[0;34m,\u001b[0m \u001b[0;36m72\u001b[0m\u001b[0;34m,\u001b[0m \u001b[0;36m120\u001b[0m\u001b[0;34m,\u001b[0m \u001b[0;36m180\u001b[0m\u001b[0;34m,\u001b[0m \u001b[0;36m240\u001b[0m\u001b[0;34m]\u001b[0m  \u001b[0;31m# Age in months (e.g., 0-1 year, 1-3 years, etc.)\u001b[0m\u001b[0;34m\u001b[0m\u001b[0;34m\u001b[0m\u001b[0m\n\u001b[1;32m      3\u001b[0m \u001b[0mage_labels\u001b[0m \u001b[0;34m=\u001b[0m \u001b[0;34m[\u001b[0m\u001b[0;34m'0-1yr'\u001b[0m\u001b[0;34m,\u001b[0m \u001b[0;34m'1-3yr'\u001b[0m\u001b[0;34m,\u001b[0m \u001b[0;34m'3-6yr'\u001b[0m\u001b[0;34m,\u001b[0m \u001b[0;34m'6-10yr'\u001b[0m\u001b[0;34m,\u001b[0m \u001b[0;34m'10-15yr'\u001b[0m\u001b[0;34m,\u001b[0m \u001b[0;34m'>15yr'\u001b[0m\u001b[0;34m]\u001b[0m\u001b[0;34m\u001b[0m\u001b[0;34m\u001b[0m\u001b[0m\n\u001b[0;32m----> 4\u001b[0;31m \u001b[0mage_gender_data\u001b[0m\u001b[0;34m[\u001b[0m\u001b[0;34m'age_group'\u001b[0m\u001b[0;34m]\u001b[0m \u001b[0;34m=\u001b[0m \u001b[0mpd\u001b[0m\u001b[0;34m.\u001b[0m\u001b[0mcut\u001b[0m\u001b[0;34m(\u001b[0m\u001b[0mage_gender_data\u001b[0m\u001b[0;34m[\u001b[0m\u001b[0;34m'age_in_months'\u001b[0m\u001b[0;34m]\u001b[0m\u001b[0;34m,\u001b[0m \u001b[0mbins\u001b[0m\u001b[0;34m=\u001b[0m\u001b[0mage_bins\u001b[0m\u001b[0;34m,\u001b[0m \u001b[0mlabels\u001b[0m\u001b[0;34m=\u001b[0m\u001b[0mage_labels\u001b[0m\u001b[0;34m)\u001b[0m\u001b[0;34m\u001b[0m\u001b[0;34m\u001b[0m\u001b[0m\n\u001b[0m\u001b[1;32m      5\u001b[0m \u001b[0mage_sepsis_rate\u001b[0m \u001b[0;34m=\u001b[0m \u001b[0mage_gender_data\u001b[0m\u001b[0;34m.\u001b[0m\u001b[0mgroupby\u001b[0m\u001b[0;34m(\u001b[0m\u001b[0;34m'age_group'\u001b[0m\u001b[0;34m)\u001b[0m\u001b[0;34m[\u001b[0m\u001b[0;34m'SepsisLabel'\u001b[0m\u001b[0;34m]\u001b[0m\u001b[0;34m.\u001b[0m\u001b[0mmean\u001b[0m\u001b[0;34m(\u001b[0m\u001b[0;34m)\u001b[0m\u001b[0;34m\u001b[0m\u001b[0;34m\u001b[0m\u001b[0m\n\u001b[1;32m      6\u001b[0m \u001b[0;34m\u001b[0m\u001b[0m\n",
      "\u001b[0;31mNameError\u001b[0m: name 'age_gender_data' is not defined"
     ]
    }
   ],
   "source": [
    "# Analyze sepsis rate by age\n",
    "age_bins = [0, 12, 36, 72, 120, 180, 240]  # Age in months (e.g., 0-1 year, 1-3 years, etc.)\n",
    "age_labels = ['0-1yr', '1-3yr', '3-6yr', '6-10yr', '10-15yr', '>15yr']\n",
    "age_gender_data['age_group'] = pd.cut(age_gender_data['age_in_months'], bins=age_bins, labels=age_labels)\n",
    "age_sepsis_rate = age_gender_data.groupby('age_group')['SepsisLabel'].mean()\n",
    "\n",
    "# Plot sepsis rate by age group\n",
    "plt.figure(figsize=(8, 6))\n",
    "age_sepsis_rate.plot(kind='bar', color='skyblue', edgecolor='black')\n",
    "plt.xlabel('Age Group')\n",
    "plt.ylabel('Sepsis Rate')\n",
    "plt.title('Sepsis Rate by Age Group')\n",
    "plt.grid(axis='y')\n",
    "plt.show()"
   ]
  },
  {
   "cell_type": "code",
   "execution_count": null,
   "id": "33503872",
   "metadata": {
    "execution": {
     "iopub.execute_input": "2025-01-21T18:06:48.092086Z",
     "iopub.status.busy": "2025-01-21T18:06:48.091684Z",
     "iopub.status.idle": "2025-01-21T18:06:48.335278Z",
     "shell.execute_reply": "2025-01-21T18:06:48.334116Z",
     "shell.execute_reply.started": "2025-01-21T18:06:48.092050Z"
    },
    "papermill": {
     "duration": null,
     "end_time": null,
     "exception": null,
     "start_time": null,
     "status": "pending"
    },
    "tags": []
   },
   "outputs": [],
   "source": [
    "\n",
    "# Analyze sepsis rate by gender\n",
    "gender_sepsis_rate = age_gender_data.groupby('gender')['SepsisLabel'].mean()\n",
    "\n",
    "# Plot sepsis rate by gender\n",
    "plt.figure(figsize=(6, 6))\n",
    "gender_sepsis_rate.plot(kind='bar', color='salmon', edgecolor='black')\n",
    "plt.xlabel('Gender')\n",
    "plt.ylabel('Sepsis Rate')\n",
    "plt.title('Sepsis Rate by Gender')\n",
    "plt.grid(axis='y')\n",
    "plt.show()"
   ]
  }
 ],
 "metadata": {
  "kaggle": {
   "accelerator": "none",
   "dataSources": [
    {
     "databundleVersionId": 10854531,
     "sourceId": 87997,
     "sourceType": "competition"
    }
   ],
   "dockerImageVersionId": 30839,
   "isGpuEnabled": false,
   "isInternetEnabled": true,
   "language": "python",
   "sourceType": "notebook"
  },
  "kernelspec": {
   "display_name": "Python 3",
   "language": "python",
   "name": "python3"
  },
  "language_info": {
   "codemirror_mode": {
    "name": "ipython",
    "version": 3
   },
   "file_extension": ".py",
   "mimetype": "text/x-python",
   "name": "python",
   "nbconvert_exporter": "python",
   "pygments_lexer": "ipython3",
   "version": "3.10.12"
  },
  "papermill": {
   "default_parameters": {},
   "duration": 18.459274,
   "end_time": "2025-01-21T18:09:14.009641",
   "environment_variables": {},
   "exception": true,
   "input_path": "__notebook__.ipynb",
   "output_path": "__notebook__.ipynb",
   "parameters": {},
   "start_time": "2025-01-21T18:08:55.550367",
   "version": "2.6.0"
  }
 },
 "nbformat": 4,
 "nbformat_minor": 5
}
